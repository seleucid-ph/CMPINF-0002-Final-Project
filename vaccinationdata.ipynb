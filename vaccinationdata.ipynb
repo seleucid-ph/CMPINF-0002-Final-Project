{
 "cells": [
  {
   "cell_type": "code",
   "execution_count": 80,
   "id": "9e5188f6-9f1a-4c95-8bd7-b26ab729f5b0",
   "metadata": {},
   "outputs": [
    {
     "name": "stdout",
     "output_type": "stream",
     "text": [
      "       _id     neighborhood_municipality  bivalent_booster\n",
      "0    25477   Chartiers City (Pittsburgh)                90\n",
      "4    25481     East Liberty (Pittsburgh)              1207\n",
      "5    25482          Carrick (Pittsburgh)              1405\n",
      "6    25483     Point Breeze (Pittsburgh)              2458\n",
      "7    25484    Lincoln Place (Pittsburgh)               534\n",
      "..     ...                           ...               ...\n",
      "206  25683         Sheraden (Pittsburgh)               687\n",
      "207  25684        Brookline (Pittsburgh)              2606\n",
      "214  25691            Bluff (Pittsburgh)               186\n",
      "215  25692          Elliott (Pittsburgh)               306\n",
      "219  25696  Central Oakland (Pittsburgh)               405\n",
      "\n",
      "[92 rows x 3 columns]\n",
      "There are 221 cities in the Allegheny County but only 92 are in Pittsburgh.\n"
     ]
    }
   ],
   "source": [
    "import pandas as pd\n",
    "\n",
    "df = pd.read_csv(\"covidvaccination.tsv\", sep=\"\\t\")\n",
    "\n",
    "cit_count = df['neighborhood_municipality'].count()\n",
    "pt_df = df[df['neighborhood_municipality'].str.contains('Pittsburgh', case=False)]\n",
    "pt_count = pt_df['neighborhood_municipality'].count()\n",
    "\n",
    "print(pt_df.head(cit_count))\n",
    "print(f\"There are {cit_count} cities in the Allegheny County but only {pt_count} are in Pittsburgh.\")"
   ]
  },
  {
   "cell_type": "code",
   "execution_count": 90,
   "id": "299609b4-f169-4f86-821a-dc1715c432d6",
   "metadata": {},
   "outputs": [
    {
     "name": "stdout",
     "output_type": "stream",
     "text": [
      "Theres a total of 61718 people vaccinated in all 92 cities of Pittsburgh. Thats an average of 671 people vaccinated per city.\n"
     ]
    }
   ],
   "source": [
    "import pandas as pd\n",
    "\n",
    "df = pd.read_csv(\"covidvaccination.tsv\", sep=\"\\t\")\n",
    "\n",
    "pt_df = df[df['neighborhood_municipality'].str.contains('Pittsburgh', case=False)]\n",
    "vacc_df = pt_df['bivalent_booster']\n",
    "\n",
    "print(f\"Theres a total of {vacc_df.sum()} people vaccinated in all {vacc_df.count()} cities of Pittsburgh. Thats an average of {vacc_df.mean():.0f} people vaccinated per city.\")"
   ]
  },
  {
   "cell_type": "code",
   "execution_count": 40,
   "id": "bbac0331-c7fd-4582-9d1d-7070bbd252ca",
   "metadata": {},
   "outputs": [
    {
     "name": "stdout",
     "output_type": "stream",
     "text": [
      "_id                                                     25579\n",
      "neighborhood_municipality    Squirrel Hill South (Pittsburgh)\n",
      "bivalent_booster                                         5347\n",
      "Name: 102, dtype: object\n",
      "The city with the highest record of vaccinations is Squirrel Hill South, with a number of 5347 vaccinations! Thats ~58 times more than the average!\n"
     ]
    }
   ],
   "source": [
    "import pandas as pd\n",
    "\n",
    "df = pd.read_csv(\"covidvaccination.tsv\", sep=\"\\t\")\n",
    "\n",
    "pt_df = df[df['neighborhood_municipality'].str.contains('Pittsburgh', case=False)]\n",
    "vacc_df = pt_df['bivalent_booster']\n",
    "\n",
    "max_row = vacc_df.idxmax()\n",
    "\n",
    "print(pt_df.loc[max_row])\n",
    "print(f\"The city with the highest record of vaccinations is Squirrel Hill South, with a number of 5347 vaccinations! Thats ~{vacc_df.max()/vacc_df.count():.0f} times more than the average!\")"
   ]
  },
  {
   "cell_type": "markdown",
   "id": "e788909a-06e8-48f4-96cf-02b010925f38",
   "metadata": {},
   "source": [
    "With our data provided, Squirrel Hill South in Pittsbur"
   ]
  }
 ],
 "metadata": {
  "kernelspec": {
   "display_name": "Python 3 (ipykernel)",
   "language": "python",
   "name": "python3"
  },
  "language_info": {
   "codemirror_mode": {
    "name": "ipython",
    "version": 3
   },
   "file_extension": ".py",
   "mimetype": "text/x-python",
   "name": "python",
   "nbconvert_exporter": "python",
   "pygments_lexer": "ipython3",
   "version": "3.12.4"
  }
 },
 "nbformat": 4,
 "nbformat_minor": 5
}

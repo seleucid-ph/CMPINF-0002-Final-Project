{
 "cells": [
  {
   "cell_type": "code",
   "execution_count": 25,
   "id": "9e5188f6-9f1a-4c95-8bd7-b26ab729f5b0",
   "metadata": {},
   "outputs": [
    {
     "name": "stdout",
     "output_type": "stream",
     "text": [
      "    _id,neighborhood_municipality,bivalent_booster\n",
      "0             25477,Chartiers City (Pittsburgh),90\n",
      "4             25481,East Liberty (Pittsburgh),1207\n",
      "5                  25482,Carrick (Pittsburgh),1405\n",
      "6             25483,Point Breeze (Pittsburgh),2458\n",
      "7             25484,Lincoln Place (Pittsburgh),534\n",
      "..                                             ...\n",
      "206                25683,Sheraden (Pittsburgh),687\n",
      "207              25684,Brookline (Pittsburgh),2606\n",
      "214                   25691,Bluff (Pittsburgh),186\n",
      "215                 25692,Elliott (Pittsburgh),306\n",
      "219         25696,Central Oakland (Pittsburgh),405\n",
      "\n",
      "[92 rows x 1 columns]\n"
     ]
    }
   ],
   "source": [
    "import pandas as pd\n",
    "\n",
    "df = pd.read_csv(\"covidvaccination.csv\", sep=\"\\t\")\n",
    "pitt_df = df[df['_id,neighborhood_municipality,bivalent_booster'].str.contains('Pittsburgh', case=False)]\n",
    "print(pitt_df.head(221))"
   ]
  },
  {
   "cell_type": "code",
   "execution_count": null,
   "id": "299609b4-f169-4f86-821a-dc1715c432d6",
   "metadata": {},
   "outputs": [],
   "source": [
    "import pandas"
   ]
  },
  {
   "cell_type": "code",
   "execution_count": null,
   "id": "bbac0331-c7fd-4582-9d1d-7070bbd252ca",
   "metadata": {},
   "outputs": [],
   "source": []
  }
 ],
 "metadata": {
  "kernelspec": {
   "display_name": "Python 3 (ipykernel)",
   "language": "python",
   "name": "python3"
  },
  "language_info": {
   "codemirror_mode": {
    "name": "ipython",
    "version": 3
   },
   "file_extension": ".py",
   "mimetype": "text/x-python",
   "name": "python",
   "nbconvert_exporter": "python",
   "pygments_lexer": "ipython3",
   "version": "3.12.4"
  }
 },
 "nbformat": 4,
 "nbformat_minor": 5
}
